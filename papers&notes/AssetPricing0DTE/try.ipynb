{
 "cells": [
  {
   "cell_type": "code",
   "execution_count": null,
   "id": "c45bbff4",
   "metadata": {},
   "outputs": [],
   "source": []
  },
  {
   "cell_type": "code",
   "execution_count": 3,
   "id": "63418280",
   "metadata": {},
   "outputs": [
    {
     "data": {
      "text/plain": [
       "1519.2"
      ]
     },
     "execution_count": 3,
     "metadata": {},
     "output_type": "execute_result"
    }
   ],
   "source": [
    "a = [21.6, 16.5, 14.6, 12.75, 11.15, 9.75, 8.45, 7.4, 5.75, 4.35, 3.65]\n",
    "b = [7,2,14,14,22,20,16,22,20,16,8]\n",
    "import numpy as np\n",
    "\n",
    "(np.array(a)*np.array(b)).sum()"
   ]
  },
  {
   "cell_type": "code",
   "execution_count": 4,
   "id": "6e2be160",
   "metadata": {},
   "outputs": [
    {
     "data": {
      "text/plain": [
       "908.05"
      ]
     },
     "execution_count": 4,
     "metadata": {},
     "output_type": "execute_result"
    }
   ],
   "source": [
    "a = [10.2, 8.8, 7.5, 6.5, 5.45, 4.65, 4.05, 3.35, 2.9]\n",
    "b = [19, 25, 15, 12, 17, 19, 6, 19, 12]\n",
    "import numpy as np\n",
    "\n",
    "(np.array(a)*np.array(b)).sum()"
   ]
  },
  {
   "cell_type": "code",
   "execution_count": null,
   "id": "66588333",
   "metadata": {},
   "outputs": [],
   "source": []
  }
 ],
 "metadata": {
  "kernelspec": {
   "display_name": "prediction_qlib",
   "language": "python",
   "name": "python3"
  },
  "language_info": {
   "codemirror_mode": {
    "name": "ipython",
    "version": 3
   },
   "file_extension": ".py",
   "mimetype": "text/x-python",
   "name": "python",
   "nbconvert_exporter": "python",
   "pygments_lexer": "ipython3",
   "version": "3.9.21"
  }
 },
 "nbformat": 4,
 "nbformat_minor": 5
}
